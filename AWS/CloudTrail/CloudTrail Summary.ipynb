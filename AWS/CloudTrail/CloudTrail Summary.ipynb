{
 "cells": [
  {
   "cell_type": "markdown",
   "id": "55466386",
   "metadata": {},
   "source": [
    "# CloudTrail Summary\n",
    "\n",
    "This Notebook reads evenst from CloudTrail and presents for each IAM Role a summary of the usage, i.e., a breakdown by IAM Role, EventSource (AWS Service), EventName (API Method), and ErrorCode.\n",
    "\n",
    "## Usage:\n",
    "\n",
    "- Install dependencies (see below)\n",
    "- (Optionally) set desired default in the settings cell\n",
    "- Run all cells in this notebook (menu Run, Run All Cells)\n",
    "- Select the desired AWS Profile\n",
    "- Select the desired Regions\n",
    "- Select the number of events in each region\n",
    "- Click `[ Fetch Events ]`\n",
    "- Wait for the events to be fetched\n",
    "- See the results in the table (pandas dataframe)"
   ]
  },
  {
   "cell_type": "markdown",
   "id": "3188c2d6-0c86-4201-ba85-b776d85c52e6",
   "metadata": {},
   "source": [
    "## Imports\n",
    "\n",
    "Here we import the modules we need, make sure the following dependencies have been installed: `boto3` and `pandas`."
   ]
  },
  {
   "cell_type": "code",
   "execution_count": 8,
   "id": "aa4803d8",
   "metadata": {},
   "outputs": [],
   "source": [
    "import ipywidgets as widgets\n",
    "import json\n",
    "import pandas as pd\n",
    "import boto3"
   ]
  },
  {
   "cell_type": "markdown",
   "id": "cc8dff44-b05f-4393-bb07-99c192cc1b2a",
   "metadata": {},
   "source": [
    "## Settings\n",
    "\n",
    "In the following cell, you can set default values for the profile and regions selections.\n",
    "You should preferably include `us-east-1` in the region selection, as some (IAM) events are only logged there."
   ]
  },
  {
   "cell_type": "code",
   "execution_count": 9,
   "id": "07ad9c06",
   "metadata": {},
   "outputs": [],
   "source": [
    "default_profile = 'default'\n",
    "default_regions = [ 'us-east-1', 'eu-west-1' ]"
   ]
  },
  {
   "cell_type": "markdown",
   "id": "2dbe66fc-4d4b-4e9a-92d1-d51fa00d2706",
   "metadata": {},
   "source": [
    "## AWS Profile and Region Selection\n",
    "\n",
    "Here we have code to select the desired AWS Profile and Region(s).\n",
    "The `sessions` dictionary will contain for each selected region, with the region name as key, a boto3 session with the selected profile.\n",
    "With each change the boto3 session(s) will be automatically updated."
   ]
  },
  {
   "cell_type": "code",
   "execution_count": 10,
   "id": "970dd29c",
   "metadata": {
    "jupyter": {
     "source_hidden": true
    },
    "tags": []
   },
   "outputs": [
    {
     "data": {
      "application/vnd.jupyter.widget-view+json": {
       "model_id": "6f106b56c90c4113ab7008f5d54cca8d",
       "version_major": 2,
       "version_minor": 0
      },
      "text/plain": [
       "VBox(children=(Dropdown(description='AWS Profile', options=('default',), value='default'), GridBox(children=(C…"
      ]
     },
     "metadata": {},
     "output_type": "display_data"
    }
   ],
   "source": [
    "sessions = {}\n",
    "current_profile = None\n",
    "\n",
    "session_output = widgets.Output()\n",
    "\n",
    "profile_dropdown = widgets.Dropdown(\n",
    "    options=boto3.Session().available_profiles,\n",
    "    description='AWS Profile',\n",
    "    value=default_profile,\n",
    ")\n",
    "\n",
    "region_checkboxes = {\n",
    "    region_name: widgets.Checkbox(\n",
    "        description=region_name,\n",
    "        value=region_name in default_regions,\n",
    "    )\n",
    "    for region_name in boto3.Session().get_available_regions('cloudtrail')\n",
    "}\n",
    "\n",
    "\n",
    "def create_sessions(*args, **kwargs):\n",
    "    global sessions, current_profile\n",
    "    \n",
    "    profile_name = profile_dropdown.value\n",
    "\n",
    "    for region_name, checkbox in region_checkboxes.items():\n",
    "        if checkbox.value:\n",
    "            if not current_profile == profile_name or region_name not in sessions:\n",
    "                sessions[region_name] = boto3.session.Session(profile_name=profile_name, region_name=region_name)\n",
    "        else:\n",
    "            if region_name in sessions:\n",
    "                del sessions[region_name]\n",
    "\n",
    "    current_profile = profile_name\n",
    "    with session_output:\n",
    "        session_output.clear_output()\n",
    "        if len(sessions) > 0:\n",
    "            try:\n",
    "                sts = list(sessions.values())[0].client('sts')\n",
    "                print(f\"Identity: {sts.get_caller_identity().get('Arn')}\")\n",
    "            except BaseException as err:\n",
    "                sessions = {}\n",
    "                print(err)\n",
    "        else:\n",
    "            print(\"No Sessions\")\n",
    "\n",
    "for widget in [profile_dropdown, *region_checkboxes.values()]:\n",
    "    widget.observe(create_sessions, names='value')\n",
    "\n",
    "display(\n",
    "    widgets.VBox([\n",
    "        profile_dropdown,\n",
    "        widgets.GridBox(\n",
    "            tuple(region_checkboxes.values()),\n",
    "            layout=widgets.Layout(grid_template_columns=\"repeat(4, 120px)\")),\n",
    "        session_output,\n",
    "    ])\n",
    ")\n",
    "\n",
    "create_sessions()"
   ]
  },
  {
   "cell_type": "markdown",
   "id": "95339fbf-11f6-4665-978e-c81d65a209c2",
   "metadata": {},
   "source": [
    "## CloudTrail Summary\n",
    "\n",
    "Here we have code to query CloudTrail and present a summary of the found events per IAM Role.\n",
    "\n",
    "Using the slider, select the number of events, per selected region, you wish to fetch, then click `[ Fetch Events ]`. Now the desired amount of events will be fetched from CloudTrail in each selected region. The `events` variable will be populated with a Pandas DataFrame containing all fetched events. A summary of the events will be displayed."
   ]
  },
  {
   "cell_type": "code",
   "execution_count": 11,
   "id": "f7fc9160-caeb-4424-a551-509a988b781c",
   "metadata": {
    "jupyter": {
     "source_hidden": true
    },
    "tags": []
   },
   "outputs": [
    {
     "data": {
      "application/vnd.jupyter.widget-view+json": {
       "model_id": "37f9248489e94b3e91fa17324e50041a",
       "version_major": 2,
       "version_minor": 0
      },
      "text/plain": [
       "VBox(children=(HBox(children=(IntSlider(value=500, description='Events', max=4000, min=50, step=50), Button(de…"
      ]
     },
     "metadata": {},
     "output_type": "display_data"
    }
   ],
   "source": [
    "events = pd.DataFrame()\n",
    "summary_output = widgets.Output()\n",
    "progress = widgets.IntProgress(description='Loading', value=0, min=0, max=0)\n",
    "progress.layout.visibility = 'hidden'\n",
    "\n",
    "\n",
    "def load_events(query=[], pages=10, pagesize=50):\n",
    "    global events\n",
    "    \n",
    "    def update_progress(*args, **kwargs):\n",
    "        progress.max = pages * len(sessions)\n",
    "        progress.value += 1\n",
    "        return True\n",
    "    \n",
    "    events = pd.concat([events] +[\n",
    "        page_df.drop(['CloudTrailEvent'], axis=1).join(pd.json_normalize(page_df['CloudTrailEvent'].apply(json.loads)))\n",
    "\n",
    "        for session in sessions.values()\n",
    "\n",
    "        for client in [session.client('cloudtrail')]\n",
    "\n",
    "        for page in client.get_paginator('lookup_events').paginate(\n",
    "            PaginationConfig={\n",
    "                'MaxItems': pages * pagesize,\n",
    "                'PageSize': pagesize,\n",
    "            },\n",
    "            LookupAttributes=query,\n",
    "        )\n",
    "\n",
    "        if update_progress()\n",
    "\n",
    "        for page_df in [pd.DataFrame(page['Events'])]\n",
    "        \n",
    "        if 'CloudTrailEvent' in page_df\n",
    "    ])\n",
    "\n",
    "    # drop duplicates\n",
    "    events = events.loc[events.astype(str).drop_duplicates().index]\n",
    "    \n",
    "    return events\n",
    "\n",
    "\n",
    "def summarize(df):\n",
    "    if 'userIdentity.sessionContext.sessionIssuer.arn' not in df:\n",
    "        return pd.DataFrame()\n",
    "    \n",
    "    summary_cols = ['userIdentity.sessionContext.sessionIssuer.arn', 'EventSource', 'EventName', 'errorCode']\n",
    "    return df[~df['userIdentity.sessionContext.sessionIssuer.arn'].isnull()].reindex([*summary_cols, 'eventTime'], axis=\"columns\").drop_duplicates().fillna('-').groupby(summary_cols).max().sort_values([*summary_cols, 'eventTime'])\n",
    "\n",
    "\n",
    "\n",
    "load_pages = widgets.IntSlider(\n",
    "    value=500,\n",
    "    min=50,\n",
    "    max=4000,\n",
    "    step=50,\n",
    "    description='Events',\n",
    "    readout=True,\n",
    "    readout_format='d'\n",
    ")\n",
    "\n",
    "load_button = widgets.Button(description='Fetch Events')\n",
    "def load(*args):\n",
    "    summary_output.clear_output()\n",
    "    progress.value = 0\n",
    "    progress.layout.visibility = 'visible'\n",
    "    events = load_events([], load_pages.value/50, 50)\n",
    "    with summary_output:\n",
    "        display(summarize(events))\n",
    "    progress.layout.visibility = 'hidden'\n",
    "load_button.on_click(load)\n",
    "\n",
    "pd.set_option('display.max_rows', None)\n",
    "\n",
    "display(\n",
    "    widgets.VBox([\n",
    "        widgets.HBox([load_pages, load_button, progress]),\n",
    "        summary_output,\n",
    "    ])\n",
    ")"
   ]
  },
  {
   "cell_type": "code",
   "execution_count": null,
   "id": "19a07842-53c3-46c6-90e7-57d8e57d817d",
   "metadata": {},
   "outputs": [],
   "source": []
  }
 ],
 "metadata": {
  "kernelspec": {
   "display_name": "Python 3 (ipykernel)",
   "language": "python",
   "name": "python3"
  },
  "language_info": {
   "codemirror_mode": {
    "name": "ipython",
    "version": 3
   },
   "file_extension": ".py",
   "mimetype": "text/x-python",
   "name": "python",
   "nbconvert_exporter": "python",
   "pygments_lexer": "ipython3",
   "version": "3.10.0"
  }
 },
 "nbformat": 4,
 "nbformat_minor": 5
}
